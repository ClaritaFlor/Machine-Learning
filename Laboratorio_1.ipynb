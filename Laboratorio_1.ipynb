{
  "nbformat": 4,
  "nbformat_minor": 0,
  "metadata": {
    "kernelspec": {
      "display_name": "Python 3",
      "language": "python",
      "name": "python3"
    },
    "language_info": {
      "codemirror_mode": {
        "name": "ipython",
        "version": 3
      },
      "file_extension": ".py",
      "mimetype": "text/x-python",
      "name": "python",
      "nbconvert_exporter": "python",
      "pygments_lexer": "ipython3",
      "version": "3.7.3"
    },
    "colab": {
      "name": "Laboratorio 1.ipynb",
      "version": "0.3.2",
      "provenance": [],
      "include_colab_link": true
    }
  },
  "cells": [
    {
      "cell_type": "markdown",
      "metadata": {
        "id": "view-in-github",
        "colab_type": "text"
      },
      "source": [
        "<a href=\"https://colab.research.google.com/github/ClaritaFlor/Machine-Learning/blob/master/Laboratorio_1.ipynb\" target=\"_parent\"><img src=\"https://colab.research.google.com/assets/colab-badge.svg\" alt=\"Open In Colab\"/></a>"
      ]
    },
    {
      "cell_type": "markdown",
      "metadata": {
        "id": "AVHLHXBjzfaZ",
        "colab_type": "text"
      },
      "source": [
        "# Laboratorio Numpy\n",
        "## Libreria de Python para trabajar con matrices, Numpy=Numerical Python"
      ]
    },
    {
      "cell_type": "code",
      "metadata": {
        "id": "woHnYKYwzfab",
        "colab_type": "code",
        "colab": {}
      },
      "source": [
        "import numpy as np"
      ],
      "execution_count": 0,
      "outputs": []
    },
    {
      "cell_type": "code",
      "metadata": {
        "id": "fZrWQzhMzfag",
        "colab_type": "code",
        "outputId": "02b3a376-9869-450d-a355-77248e0941d3",
        "colab": {}
      },
      "source": [
        "# crear un array y mostrar\n",
        "lista=[1,2,3,4]\n",
        "array=np.array(lista)\n",
        "array"
      ],
      "execution_count": 0,
      "outputs": [
        {
          "output_type": "execute_result",
          "data": {
            "text/plain": [
              "array([1, 2, 3, 4])"
            ]
          },
          "metadata": {
            "tags": []
          },
          "execution_count": 2
        }
      ]
    },
    {
      "cell_type": "code",
      "metadata": {
        "id": "V-yvSm3qzfal",
        "colab_type": "code",
        "outputId": "ad6ea083-b61d-4fe5-f423-61ffdf6b8236",
        "colab": {}
      },
      "source": [
        "#crear una matriz y mostrar\n",
        "lista2=[[1,2,3],[4,5,6],[7,8,9]]\n",
        "array2=np.array(lista2)\n",
        "array2"
      ],
      "execution_count": 0,
      "outputs": [
        {
          "output_type": "execute_result",
          "data": {
            "text/plain": [
              "array([[1, 2, 3],\n",
              "       [4, 5, 6],\n",
              "       [7, 8, 9]])"
            ]
          },
          "metadata": {
            "tags": []
          },
          "execution_count": 4
        }
      ]
    },
    {
      "cell_type": "code",
      "metadata": {
        "id": "FI2Issvrzfaq",
        "colab_type": "code",
        "outputId": "276705eb-a574-4189-de82-b4556cbca1bf",
        "colab": {}
      },
      "source": [
        "#comprobando el consumo de numpy vs python\n",
        "import sys\n",
        "A=range(1000)\n",
        "print (\"Consumo en Python\")\n",
        "print (sys.getsizeof(5)*len(A))\n",
        "B=np.arange(1000)\n",
        "print (\"resultado con numpy\")\n",
        "print (B.size*B.itemsize)"
      ],
      "execution_count": 0,
      "outputs": [
        {
          "output_type": "stream",
          "text": [
            "Consumo en Python\n",
            "28000\n",
            "resultado con numpy\n",
            "4000\n"
          ],
          "name": "stdout"
        }
      ]
    },
    {
      "cell_type": "code",
      "metadata": {
        "id": "MAaFHmsWzfav",
        "colab_type": "code",
        "outputId": "016e1a46-0428-4b45-d44b-b6720b3891a3",
        "colab": {}
      },
      "source": [
        "# generar un array de 5 elementos\n",
        "array3=np.arange(5)\n",
        "array3"
      ],
      "execution_count": 0,
      "outputs": [
        {
          "output_type": "execute_result",
          "data": {
            "text/plain": [
              "array([0, 1, 2, 3, 4])"
            ]
          },
          "metadata": {
            "tags": []
          },
          "execution_count": 11
        }
      ]
    },
    {
      "cell_type": "code",
      "metadata": {
        "id": "kszHv_9fzfay",
        "colab_type": "code",
        "outputId": "64c036d7-3b8c-49c7-c8b0-7847fa34ce58",
        "colab": {}
      },
      "source": [
        "#array entre 2 y 10\n",
        "array4=np.arange(2,10)\n",
        "array4"
      ],
      "execution_count": 0,
      "outputs": [
        {
          "output_type": "execute_result",
          "data": {
            "text/plain": [
              "array([2, 3, 4, 5, 6, 7, 8, 9])"
            ]
          },
          "metadata": {
            "tags": []
          },
          "execution_count": 13
        }
      ]
    },
    {
      "cell_type": "code",
      "metadata": {
        "id": "bR6Fzzfazfa3",
        "colab_type": "code",
        "outputId": "c7a854a2-8950-4b0a-b6d3-177055e9b3f8",
        "colab": {}
      },
      "source": [
        "#array entre 10 y 20 de 2 en 2\n",
        "array5=np.arange(10,20,2)\n",
        "array5"
      ],
      "execution_count": 0,
      "outputs": [
        {
          "output_type": "execute_result",
          "data": {
            "text/plain": [
              "array([10, 12, 14, 16, 18])"
            ]
          },
          "metadata": {
            "tags": []
          },
          "execution_count": 16
        }
      ]
    },
    {
      "cell_type": "code",
      "metadata": {
        "id": "vH9ytmNTzfa7",
        "colab_type": "code",
        "outputId": "c0304aa7-377c-4184-9a26-799d6dcb0cf2",
        "colab": {}
      },
      "source": [
        "# array lleno de ceros\n",
        "array6=np.zeros(3)\n",
        "array6"
      ],
      "execution_count": 0,
      "outputs": [
        {
          "output_type": "execute_result",
          "data": {
            "text/plain": [
              "array([0., 0., 0.])"
            ]
          },
          "metadata": {
            "tags": []
          },
          "execution_count": 17
        }
      ]
    },
    {
      "cell_type": "code",
      "metadata": {
        "id": "f9TD4Rh2zfa-",
        "colab_type": "code",
        "outputId": "075c6a36-4210-41d9-a1bc-173ab37fc3fe",
        "colab": {}
      },
      "source": [
        "# matriz lleno de ceros\n",
        "array7=np.zeros((3,4))\n",
        "array7"
      ],
      "execution_count": 0,
      "outputs": [
        {
          "output_type": "execute_result",
          "data": {
            "text/plain": [
              "array([[0., 0., 0., 0.],\n",
              "       [0., 0., 0., 0.],\n",
              "       [0., 0., 0., 0.]])"
            ]
          },
          "metadata": {
            "tags": []
          },
          "execution_count": 19
        }
      ]
    },
    {
      "cell_type": "code",
      "metadata": {
        "id": "MOsj_rx8zfbF",
        "colab_type": "code",
        "outputId": "05f25acb-48f6-491e-ec94-75aa3c4518e2",
        "colab": {}
      },
      "source": [
        "# array de unos\n",
        "array8=np.ones(4)\n",
        "array8"
      ],
      "execution_count": 0,
      "outputs": [
        {
          "output_type": "execute_result",
          "data": {
            "text/plain": [
              "array([1., 1., 1., 1.])"
            ]
          },
          "metadata": {
            "tags": []
          },
          "execution_count": 21
        }
      ]
    },
    {
      "cell_type": "code",
      "metadata": {
        "id": "W23zmlK3zfbL",
        "colab_type": "code",
        "outputId": "37063355-6d79-4b34-bbe6-bcf080d3df57",
        "colab": {}
      },
      "source": [
        "# matriz de unos\n",
        "array9=np.ones((3,4))\n",
        "array9"
      ],
      "execution_count": 0,
      "outputs": [
        {
          "output_type": "execute_result",
          "data": {
            "text/plain": [
              "array([[1., 1., 1., 1.],\n",
              "       [1., 1., 1., 1.],\n",
              "       [1., 1., 1., 1.]])"
            ]
          },
          "metadata": {
            "tags": []
          },
          "execution_count": 22
        }
      ]
    },
    {
      "cell_type": "code",
      "metadata": {
        "id": "3VDFJ8lQzfbQ",
        "colab_type": "code",
        "outputId": "88304381-5fc0-4fbe-94a4-e4a7c3976ef8",
        "colab": {}
      },
      "source": [
        "# array de 50 numeros aleatorios entre 5 y 8\n",
        "array10=np.linspace(5,8,50)\n",
        "array10"
      ],
      "execution_count": 0,
      "outputs": [
        {
          "output_type": "execute_result",
          "data": {
            "text/plain": [
              "array([5.        , 5.06122449, 5.12244898, 5.18367347, 5.24489796,\n",
              "       5.30612245, 5.36734694, 5.42857143, 5.48979592, 5.55102041,\n",
              "       5.6122449 , 5.67346939, 5.73469388, 5.79591837, 5.85714286,\n",
              "       5.91836735, 5.97959184, 6.04081633, 6.10204082, 6.16326531,\n",
              "       6.2244898 , 6.28571429, 6.34693878, 6.40816327, 6.46938776,\n",
              "       6.53061224, 6.59183673, 6.65306122, 6.71428571, 6.7755102 ,\n",
              "       6.83673469, 6.89795918, 6.95918367, 7.02040816, 7.08163265,\n",
              "       7.14285714, 7.20408163, 7.26530612, 7.32653061, 7.3877551 ,\n",
              "       7.44897959, 7.51020408, 7.57142857, 7.63265306, 7.69387755,\n",
              "       7.75510204, 7.81632653, 7.87755102, 7.93877551, 8.        ])"
            ]
          },
          "metadata": {
            "tags": []
          },
          "execution_count": 24
        }
      ]
    },
    {
      "cell_type": "code",
      "metadata": {
        "id": "URLBpUE0zfbU",
        "colab_type": "code",
        "outputId": "02cb9b2d-76cb-42d5-e3d2-adc258bad98f",
        "colab": {}
      },
      "source": [
        "# array con diagonal principal\n",
        "array11=np.eye(10)\n",
        "array11"
      ],
      "execution_count": 0,
      "outputs": [
        {
          "output_type": "execute_result",
          "data": {
            "text/plain": [
              "array([[1., 0., 0., 0., 0., 0., 0., 0., 0., 0.],\n",
              "       [0., 1., 0., 0., 0., 0., 0., 0., 0., 0.],\n",
              "       [0., 0., 1., 0., 0., 0., 0., 0., 0., 0.],\n",
              "       [0., 0., 0., 1., 0., 0., 0., 0., 0., 0.],\n",
              "       [0., 0., 0., 0., 1., 0., 0., 0., 0., 0.],\n",
              "       [0., 0., 0., 0., 0., 1., 0., 0., 0., 0.],\n",
              "       [0., 0., 0., 0., 0., 0., 1., 0., 0., 0.],\n",
              "       [0., 0., 0., 0., 0., 0., 0., 1., 0., 0.],\n",
              "       [0., 0., 0., 0., 0., 0., 0., 0., 1., 0.],\n",
              "       [0., 0., 0., 0., 0., 0., 0., 0., 0., 1.]])"
            ]
          },
          "metadata": {
            "tags": []
          },
          "execution_count": 25
        }
      ]
    },
    {
      "cell_type": "code",
      "metadata": {
        "id": "gYrloRnkzfbY",
        "colab_type": "code",
        "outputId": "3eb9063f-c350-4b00-a2bb-243f8eccbcae",
        "colab": {}
      },
      "source": [
        "array12=np.random.rand(5)\n",
        "array12"
      ],
      "execution_count": 0,
      "outputs": [
        {
          "output_type": "execute_result",
          "data": {
            "text/plain": [
              "array([0.29920771, 0.21034237, 0.89305093, 0.63499841, 0.9290569 ])"
            ]
          },
          "metadata": {
            "tags": []
          },
          "execution_count": 31
        }
      ]
    },
    {
      "cell_type": "code",
      "metadata": {
        "id": "reKULtPOzfbc",
        "colab_type": "code",
        "outputId": "f576090a-fa83-4400-c3a3-24408fab190e",
        "colab": {}
      },
      "source": [
        "array13=np.random.rand(4,5)\n",
        "array13"
      ],
      "execution_count": 0,
      "outputs": [
        {
          "output_type": "execute_result",
          "data": {
            "text/plain": [
              "array([[0.4376609 , 0.84793864, 0.91589785, 0.96525357, 0.98270275],\n",
              "       [0.59045156, 0.67328179, 0.39503267, 0.42910814, 0.98541137],\n",
              "       [0.78373112, 0.45619521, 0.76939242, 0.33509577, 0.07400551],\n",
              "       [0.89975063, 0.76170955, 0.09841281, 0.70416482, 0.18236896]])"
            ]
          },
          "metadata": {
            "tags": []
          },
          "execution_count": 33
        }
      ]
    },
    {
      "cell_type": "code",
      "metadata": {
        "id": "KjIhqGkxzfbg",
        "colab_type": "code",
        "outputId": "a6dd0b07-0265-44d2-f889-62fd547f2ff1",
        "colab": {}
      },
      "source": [
        "array14=np.random.randint(1,20)\n",
        "array14"
      ],
      "execution_count": 0,
      "outputs": [
        {
          "output_type": "execute_result",
          "data": {
            "text/plain": [
              "10"
            ]
          },
          "metadata": {
            "tags": []
          },
          "execution_count": 34
        }
      ]
    },
    {
      "cell_type": "code",
      "metadata": {
        "id": "bnLdUYCJzfbj",
        "colab_type": "code",
        "outputId": "a6e20b03-59d8-435e-8e2f-768e38754465",
        "colab": {}
      },
      "source": [
        "array15=np.random.randint(1,100,25)\n",
        "array15"
      ],
      "execution_count": 0,
      "outputs": [
        {
          "output_type": "execute_result",
          "data": {
            "text/plain": [
              "array([62, 15, 31, 23,  4,  7, 48, 69, 60, 30, 85,  9, 47, 72,  5, 68, 60,\n",
              "       19, 25, 51, 99, 70, 20, 20, 70])"
            ]
          },
          "metadata": {
            "tags": []
          },
          "execution_count": 37
        }
      ]
    },
    {
      "cell_type": "code",
      "metadata": {
        "id": "Vi1ZDGj-zfbm",
        "colab_type": "code",
        "outputId": "f94ee196-cef4-47c1-a029-c5040da91b7b",
        "colab": {}
      },
      "source": [
        "array16=np.random.randint(1,100,50)\n",
        "array16"
      ],
      "execution_count": 0,
      "outputs": [
        {
          "output_type": "execute_result",
          "data": {
            "text/plain": [
              "array([96, 88, 22, 99, 49, 65, 83, 60, 36, 98, 66,  1, 56,  8, 42, 27, 61,\n",
              "       80, 29, 54, 20, 59, 75, 47, 91, 51, 26, 91,  9, 28, 15, 31, 94, 58,\n",
              "       25, 87, 31, 65, 92, 81,  5, 51, 77,  5,  1, 42, 93, 43, 93, 77])"
            ]
          },
          "metadata": {
            "tags": []
          },
          "execution_count": 38
        }
      ]
    },
    {
      "cell_type": "code",
      "metadata": {
        "id": "sWcOD-z0zfbq",
        "colab_type": "code",
        "outputId": "3fd1a62b-28eb-4059-eb20-0f28d5019809",
        "colab": {}
      },
      "source": [
        "valor_maximo=array16.max()\n",
        "valor_maximo"
      ],
      "execution_count": 0,
      "outputs": [
        {
          "output_type": "execute_result",
          "data": {
            "text/plain": [
              "99"
            ]
          },
          "metadata": {
            "tags": []
          },
          "execution_count": 39
        }
      ]
    },
    {
      "cell_type": "code",
      "metadata": {
        "id": "yJ1FwFN5zfbt",
        "colab_type": "code",
        "outputId": "dd9deb23-9a30-4413-d3d8-35fbb425aaa5",
        "colab": {}
      },
      "source": [
        "valor_minimo=array16.min()\n",
        "valor_minimo"
      ],
      "execution_count": 0,
      "outputs": [
        {
          "output_type": "execute_result",
          "data": {
            "text/plain": [
              "1"
            ]
          },
          "metadata": {
            "tags": []
          },
          "execution_count": 40
        }
      ]
    },
    {
      "cell_type": "code",
      "metadata": {
        "id": "8XtHP7hLzfb2",
        "colab_type": "code",
        "outputId": "3f2b2c2e-4587-45ca-e79a-d1007efa9bf5",
        "colab": {}
      },
      "source": [
        "posicion_maximo=array16.argmax()\n",
        "posicion_maximo"
      ],
      "execution_count": 0,
      "outputs": [
        {
          "output_type": "execute_result",
          "data": {
            "text/plain": [
              "3"
            ]
          },
          "metadata": {
            "tags": []
          },
          "execution_count": 44
        }
      ]
    },
    {
      "cell_type": "code",
      "metadata": {
        "id": "sCAQsy58zfb9",
        "colab_type": "code",
        "outputId": "9318ab7c-7044-4059-f1d5-737644f0080d",
        "colab": {}
      },
      "source": [
        "posicion_minimo=array16.argmin()\n",
        "posicion_minimo"
      ],
      "execution_count": 0,
      "outputs": [
        {
          "output_type": "execute_result",
          "data": {
            "text/plain": [
              "11"
            ]
          },
          "metadata": {
            "tags": []
          },
          "execution_count": 43
        }
      ]
    },
    {
      "cell_type": "code",
      "metadata": {
        "id": "Ug-RpXQIzfcA",
        "colab_type": "code",
        "outputId": "eb2e6823-28c6-4dbb-ee48-bd4d5b1a8770",
        "colab": {}
      },
      "source": [
        "array17=np.arange(0,10)\n",
        "array17"
      ],
      "execution_count": 0,
      "outputs": [
        {
          "output_type": "execute_result",
          "data": {
            "text/plain": [
              "array([0, 1, 2, 3, 4, 5, 6, 7, 8, 9])"
            ]
          },
          "metadata": {
            "tags": []
          },
          "execution_count": 45
        }
      ]
    },
    {
      "cell_type": "code",
      "metadata": {
        "id": "0ul0u_q2zfcD",
        "colab_type": "code",
        "outputId": "ccdaf34a-813a-4290-ecf2-aa157be900ed",
        "colab": {}
      },
      "source": [
        "array17[0]"
      ],
      "execution_count": 0,
      "outputs": [
        {
          "output_type": "execute_result",
          "data": {
            "text/plain": [
              "0"
            ]
          },
          "metadata": {
            "tags": []
          },
          "execution_count": 47
        }
      ]
    },
    {
      "cell_type": "code",
      "metadata": {
        "id": "OENrApQ8zfcJ",
        "colab_type": "code",
        "outputId": "778fa532-a462-4537-a758-e24f920f77e0",
        "colab": {}
      },
      "source": [
        "array17[-1]"
      ],
      "execution_count": 0,
      "outputs": [
        {
          "output_type": "execute_result",
          "data": {
            "text/plain": [
              "9"
            ]
          },
          "metadata": {
            "tags": []
          },
          "execution_count": 49
        }
      ]
    },
    {
      "cell_type": "code",
      "metadata": {
        "id": "04JS0vw3zfcR",
        "colab_type": "code",
        "outputId": "24503e13-2faf-4db4-fb36-1e3c7b9e7895",
        "colab": {}
      },
      "source": [
        "array17[2:4]"
      ],
      "execution_count": 0,
      "outputs": [
        {
          "output_type": "execute_result",
          "data": {
            "text/plain": [
              "array([2, 3])"
            ]
          },
          "metadata": {
            "tags": []
          },
          "execution_count": 55
        }
      ]
    },
    {
      "cell_type": "code",
      "metadata": {
        "id": "iIS6DUyKzfcX",
        "colab_type": "code",
        "outputId": "4b3e40d0-3b37-4b05-bc27-4f184a035b87",
        "colab": {}
      },
      "source": [
        "array17[:]"
      ],
      "execution_count": 0,
      "outputs": [
        {
          "output_type": "execute_result",
          "data": {
            "text/plain": [
              "array([0, 1, 2, 3, 4, 5, 6, 7, 8, 9])"
            ]
          },
          "metadata": {
            "tags": []
          },
          "execution_count": 58
        }
      ]
    },
    {
      "cell_type": "code",
      "metadata": {
        "id": "00sB2TLPzfca",
        "colab_type": "code",
        "outputId": "dd984e1c-7d16-47e3-c500-6799be7fc612",
        "colab": {}
      },
      "source": [
        "array17[5:]"
      ],
      "execution_count": 0,
      "outputs": [
        {
          "output_type": "execute_result",
          "data": {
            "text/plain": [
              "array([5, 6, 7, 8, 9])"
            ]
          },
          "metadata": {
            "tags": []
          },
          "execution_count": 59
        }
      ]
    },
    {
      "cell_type": "code",
      "metadata": {
        "id": "5yIhrUbwzfce",
        "colab_type": "code",
        "outputId": "2560509d-3b18-42e3-d9e9-d3cd181aa5c0",
        "colab": {}
      },
      "source": [
        "array17[:5]"
      ],
      "execution_count": 0,
      "outputs": [
        {
          "output_type": "execute_result",
          "data": {
            "text/plain": [
              "array([0, 1, 2, 3, 4])"
            ]
          },
          "metadata": {
            "tags": []
          },
          "execution_count": 60
        }
      ]
    },
    {
      "cell_type": "code",
      "metadata": {
        "id": "r1evnf7-zfcj",
        "colab_type": "code",
        "outputId": "8bd6a32a-4804-4b63-99be-912285ec4286",
        "colab": {}
      },
      "source": [
        "array17+array17"
      ],
      "execution_count": 0,
      "outputs": [
        {
          "output_type": "execute_result",
          "data": {
            "text/plain": [
              "array([ 0,  2,  4,  6,  8, 10, 12, 14, 16, 18])"
            ]
          },
          "metadata": {
            "tags": []
          },
          "execution_count": 61
        }
      ]
    },
    {
      "cell_type": "code",
      "metadata": {
        "id": "VOz6xA4pzfco",
        "colab_type": "code",
        "outputId": "7a2c5fef-e6e4-4743-8deb-a6385c2e87b2",
        "colab": {}
      },
      "source": [
        "array17-array17"
      ],
      "execution_count": 0,
      "outputs": [
        {
          "output_type": "execute_result",
          "data": {
            "text/plain": [
              "array([0, 0, 0, 0, 0, 0, 0, 0, 0, 0])"
            ]
          },
          "metadata": {
            "tags": []
          },
          "execution_count": 63
        }
      ]
    },
    {
      "cell_type": "code",
      "metadata": {
        "id": "ix80xAnTzfcv",
        "colab_type": "code",
        "outputId": "a70fec2d-0a04-4e77-b71c-4ec04390b3e4",
        "colab": {}
      },
      "source": [
        "array17*array17"
      ],
      "execution_count": 0,
      "outputs": [
        {
          "output_type": "execute_result",
          "data": {
            "text/plain": [
              "array([ 0,  1,  4,  9, 16, 25, 36, 49, 64, 81])"
            ]
          },
          "metadata": {
            "tags": []
          },
          "execution_count": 64
        }
      ]
    },
    {
      "cell_type": "code",
      "metadata": {
        "id": "MF6kiS-jzfc1",
        "colab_type": "code",
        "colab": {}
      },
      "source": [
        ""
      ],
      "execution_count": 0,
      "outputs": []
    },
    {
      "cell_type": "code",
      "metadata": {
        "id": "5CLkLa_yzfc4",
        "colab_type": "code",
        "colab": {}
      },
      "source": [
        ""
      ],
      "execution_count": 0,
      "outputs": []
    },
    {
      "cell_type": "code",
      "metadata": {
        "id": "-iKkrmXpzfc7",
        "colab_type": "code",
        "colab": {}
      },
      "source": [
        ""
      ],
      "execution_count": 0,
      "outputs": []
    },
    {
      "cell_type": "code",
      "metadata": {
        "id": "wMoKs535zfdA",
        "colab_type": "code",
        "colab": {}
      },
      "source": [
        ""
      ],
      "execution_count": 0,
      "outputs": []
    },
    {
      "cell_type": "code",
      "metadata": {
        "id": "9fWNmAxzzfdD",
        "colab_type": "code",
        "colab": {}
      },
      "source": [
        ""
      ],
      "execution_count": 0,
      "outputs": []
    },
    {
      "cell_type": "code",
      "metadata": {
        "id": "cQHst0wezfdG",
        "colab_type": "code",
        "colab": {}
      },
      "source": [
        ""
      ],
      "execution_count": 0,
      "outputs": []
    },
    {
      "cell_type": "code",
      "metadata": {
        "id": "dhMlxcb1zfdK",
        "colab_type": "code",
        "colab": {}
      },
      "source": [
        ""
      ],
      "execution_count": 0,
      "outputs": []
    }
  ]
}